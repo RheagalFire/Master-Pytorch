{
 "cells": [
  {
   "cell_type": "code",
   "execution_count": 1,
   "id": "social-semester",
   "metadata": {},
   "outputs": [],
   "source": [
    "#!pip install tqdm\n",
    "import torch\n",
    "import torchvision # torch package for vision related things\n",
    "import torch.nn.functional as F  # Parameterless functions, like (some) activation functions\n",
    "import torchvision.datasets as datasets  # Standard datasets\n",
    "import torchvision.transforms as transforms  # Transformations we can perform on our dataset for augmentation\n",
    "from torch import optim  # For optimizers like SGD, Adam, etc.\n",
    "from torch import nn  # All neural network modules\n",
    "from torch.utils.data import DataLoader  # Gives easier dataset managment by creating mini batches etc.\n",
    "from tqdm import tqdm  # For nice progress bar!"
   ]
  },
  {
   "cell_type": "code",
   "execution_count": 2,
   "id": "greek-sacrifice",
   "metadata": {},
   "outputs": [],
   "source": [
    "#inheriting from modules\n",
    "class NN(nn.Module):\n",
    "    def __init__(self,input_size,num_classes):\n",
    "        super(NN,self).__init__()\n",
    "        self.fc1=nn.Linear(input_size,50)\n",
    "        self.fc2=nn.Linear(50,num_classes)\n",
    "    def forward(self,x):\n",
    "        x=F.relu(self.fc1(x))\n",
    "        x=self.fc2(x)\n",
    "        return x"
   ]
  },
  {
   "cell_type": "code",
   "execution_count": 3,
   "id": "ceramic-freeze",
   "metadata": {},
   "outputs": [],
   "source": [
    "#setup device\n",
    "device=torch.device(\"cuda\" if torch.cuda.is_available() else \"cpu\")"
   ]
  },
  {
   "cell_type": "code",
   "execution_count": 4,
   "id": "theoretical-january",
   "metadata": {},
   "outputs": [],
   "source": [
    "#define model_parameters\n",
    "input_size=784\n",
    "num_classes=10\n",
    "learning_rate=0.005\n",
    "batch_size=64\n",
    "num_epochs=3"
   ]
  },
  {
   "cell_type": "code",
   "execution_count": 5,
   "id": "split-testing",
   "metadata": {},
   "outputs": [
    {
     "name": "stderr",
     "output_type": "stream",
     "text": [
      "Enabling notebook extension jupyter-js-widgets/extension...\n",
      "      - Validating: ok\n"
     ]
    }
   ],
   "source": [
    "!jupyter nbextension enable --py widgetsnbextension"
   ]
  },
  {
   "cell_type": "code",
   "execution_count": 20,
   "id": "relative-funeral",
   "metadata": {},
   "outputs": [],
   "source": [
    "#Load The Data\n",
    "train_data=datasets.MNIST(root='dataset/',train=True,transform=transforms.ToTensor(),download=True)\n",
    "test_data=datasets.MNIST(root='dataset/',train=False,transform=transforms.ToTensor(),download=True)\n",
    "train_loader=DataLoader(dataset=train_data,batch_size=batch_size,shuffle=True)\n",
    "test_loader=DataLoader(dataset=test_data,batch_size=batch_size,shuffle=True)"
   ]
  },
  {
   "cell_type": "code",
   "execution_count": 8,
   "id": "musical-destruction",
   "metadata": {},
   "outputs": [],
   "source": [
    "model=NN(input_size=input_size,num_classes=num_classes).to(device)\n",
    "criterion=nn.CrossEntropyLoss()\n",
    "optimizer=optim.Adam(model.parameters(),lr=learning_rate)"
   ]
  },
  {
   "cell_type": "code",
   "execution_count": 10,
   "id": "ahead-lightning",
   "metadata": {},
   "outputs": [
    {
     "name": "stderr",
     "output_type": "stream",
     "text": [
      "100%|███████████████████████████████████████████████████████████████████████████████| 938/938 [00:05<00:00, 161.11it/s]\n",
      "100%|███████████████████████████████████████████████████████████████████████████████| 938/938 [00:05<00:00, 183.92it/s]\n",
      "100%|███████████████████████████████████████████████████████████████████████████████| 938/938 [00:05<00:00, 178.69it/s]\n"
     ]
    }
   ],
   "source": [
    "\n",
    "for epoch in range(num_epochs):\n",
    "    for batch_idx,(data,targets) in enumerate(tqdm(train_loader)):\n",
    "        data=data.to(device=device)\n",
    "        targets=targets.to(device=device)\n",
    "        \n",
    "        data=data.reshape(data.shape[0],-1)\n",
    "        \n",
    "        scores=model(data)\n",
    "        loss=criterion(scores,targets)\n",
    "        \n",
    "        optimizer.zero_grad()\n",
    "        loss.backward()\n",
    "        \n",
    "        optimizer.step()"
   ]
  },
  {
   "cell_type": "code",
   "execution_count": 17,
   "id": "palestinian-embassy",
   "metadata": {},
   "outputs": [],
   "source": [
    "def check_acc(loader,model):\n",
    "    correct=0\n",
    "    samples=0\n",
    "    model.eval()\n",
    "    \n",
    "    with torch.no_grad():\n",
    "        for x,y in loader:\n",
    "            x=x.to(device=device)\n",
    "            y=y.to(device=device)\n",
    "            x=x.reshape(x.shape[0],-1)\n",
    "            \n",
    "            scores=model(x)\n",
    "            _,predictions=scores.max(1)\n",
    "            correct += (predictions == y).sum()\n",
    "            samples += predictions.size(0)\n",
    "    model.train()\n",
    "    return correct/samples"
   ]
  },
  {
   "cell_type": "code",
   "execution_count": 18,
   "id": "basic-convention",
   "metadata": {},
   "outputs": [
    {
     "data": {
      "text/plain": [
       "tensor(0.9768, device='cuda:0')"
      ]
     },
     "execution_count": 18,
     "metadata": {},
     "output_type": "execute_result"
    }
   ],
   "source": [
    "#Training Accuracy\n",
    "check_acc(train_loader,model)"
   ]
  },
  {
   "cell_type": "code",
   "execution_count": 21,
   "id": "flying-breed",
   "metadata": {},
   "outputs": [
    {
     "data": {
      "text/plain": [
       "tensor(0.9687, device='cuda:0')"
      ]
     },
     "execution_count": 21,
     "metadata": {},
     "output_type": "execute_result"
    }
   ],
   "source": [
    "#Test Accuracy\n",
    "check_acc(test_loader,model)"
   ]
  }
 ],
 "metadata": {
  "kernelspec": {
   "display_name": "pytorch",
   "language": "python",
   "name": "pytorch"
  },
  "language_info": {
   "codemirror_mode": {
    "name": "ipython",
    "version": 3
   },
   "file_extension": ".py",
   "mimetype": "text/x-python",
   "name": "python",
   "nbconvert_exporter": "python",
   "pygments_lexer": "ipython3",
   "version": "3.8.5"
  }
 },
 "nbformat": 4,
 "nbformat_minor": 5
}
