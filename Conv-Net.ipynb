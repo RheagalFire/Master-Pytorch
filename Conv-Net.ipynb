{
 "cells": [
  {
   "cell_type": "code",
   "execution_count": 1,
   "id": "e8c0e06c",
   "metadata": {},
   "outputs": [],
   "source": [
    "#!pip install tqdm\n",
    "import torch\n",
    "import torchvision # torch package for vision related things\n",
    "import torch.nn.functional as F  # Parameterless functions, like (some) activation functions\n",
    "import torchvision.datasets as datasets  # Standard datasets\n",
    "import torchvision.transforms as transforms  # Transformations we can perform on our dataset for augmentation\n",
    "from torch import optim  # For optimizers like SGD, Adam, etc.\n",
    "from torch import nn  # All neural network modules\n",
    "from torch.utils.data import DataLoader  # Gives easier dataset managment by creating mini batches etc.\n",
    "from tqdm import tqdm  # For nice progress bar!"
   ]
  },
  {
   "cell_type": "code",
   "execution_count": 9,
   "id": "3229135b",
   "metadata": {},
   "outputs": [],
   "source": [
    "#define model_parameters\n",
    "input_size=784\n",
    "num_classes=10\n",
    "learning_rate=0.005\n",
    "batch_size=64\n",
    "num_epochs=3\n",
    "#setup device\n",
    "device=torch.device(\"cuda\" if torch.cuda.is_available() else \"cpu\")"
   ]
  },
  {
   "cell_type": "code",
   "execution_count": 3,
   "id": "2543a570",
   "metadata": {},
   "outputs": [],
   "source": [
    "#Load The Data\n",
    "train_data=datasets.MNIST(root='dataset/',train=True,transform=transforms.ToTensor(),download=True)\n",
    "test_data=datasets.MNIST(root='dataset/',train=False,transform=transforms.ToTensor(),download=True)\n",
    "train_loader=DataLoader(dataset=train_data,batch_size=batch_size,shuffle=True)\n",
    "test_loader=DataLoader(dataset=test_data,batch_size=batch_size,shuffle=True)"
   ]
  },
  {
   "cell_type": "code",
   "execution_count": 7,
   "id": "cfe73e4e",
   "metadata": {},
   "outputs": [
    {
     "name": "stdout",
     "output_type": "stream",
     "text": [
      "Sanity Check: Passed!\n"
     ]
    }
   ],
   "source": [
    "class CNN(nn.Module):\n",
    "    def __init__(self,n_channels=1,num_classes=10):\n",
    "        super(CNN,self).__init__()\n",
    "        self.conv1=nn.Conv2d(in_channels=1,out_channels=8,kernel_size=(3,3),stride=(1,1),padding=(1,1))\n",
    "        self.pool=nn.MaxPool2d(kernel_size=(2,2),stride=(2,2))\n",
    "        self.conv2=nn.Conv2d(in_channels=8,out_channels=16,kernel_size=(3,3),stride=(1,1),padding=(1,1))\n",
    "        self.fc1=nn.Linear(16*7*7,num_classes)\n",
    "    def forward(self,x):\n",
    "        x=F.relu(self.conv1(x))\n",
    "        x=self.pool(x)\n",
    "        x=F.relu(self.conv2(x))\n",
    "        x=self.pool(x)\n",
    "        x=x.reshape(x.shape[0],-1)\n",
    "        x=self.fc1(x)\n",
    "        return x\n",
    "try:\n",
    "    model=CNN()\n",
    "    x=torch.randn(64,1,28,28)\n",
    "    model(x)\n",
    "    print(\"Sanity Check: Passed!\")\n",
    "except:\n",
    "    print(\"Sanity Check Failed\")"
   ]
  },
  {
   "cell_type": "code",
   "execution_count": 10,
   "id": "b0d472d7",
   "metadata": {},
   "outputs": [],
   "source": [
    "model=CNN().to(device)\n",
    "criterion=nn.CrossEntropyLoss()\n",
    "optimizer=optim.Adam(model.parameters(),lr=learning_rate)"
   ]
  },
  {
   "cell_type": "code",
   "execution_count": 13,
   "id": "9b860b27",
   "metadata": {},
   "outputs": [
    {
     "name": "stderr",
     "output_type": "stream",
     "text": [
      "100%|███████████████████████████████████████████████████████████████████████████████| 938/938 [00:06<00:00, 155.25it/s]\n",
      "100%|███████████████████████████████████████████████████████████████████████████████| 938/938 [00:06<00:00, 155.93it/s]\n",
      "100%|███████████████████████████████████████████████████████████████████████████████| 938/938 [00:06<00:00, 155.27it/s]"
     ]
    },
    {
     "name": "stdout",
     "output_type": "stream",
     "text": [
      "Training Finished\n"
     ]
    },
    {
     "name": "stderr",
     "output_type": "stream",
     "text": [
      "\n"
     ]
    }
   ],
   "source": [
    "for epoch in range(num_epochs):\n",
    "    for batch_idx,(data,targets) in enumerate(tqdm(train_loader)):\n",
    "        #get data to cuda\n",
    "        data=data.to(device=device)\n",
    "        targets=targets.to(device=device)\n",
    "        #forward\n",
    "        scores=model(data)\n",
    "        loss=criterion(scores,targets)\n",
    "        #backward\n",
    "        optimizer.zero_grad()\n",
    "        loss.backward()\n",
    "        #gradient Descent\n",
    "        optimizer.step()\n",
    "    if(epoch==num_epochs-1):\n",
    "        print(\"Training Finished\")"
   ]
  },
  {
   "cell_type": "code",
   "execution_count": 16,
   "id": "929dad77",
   "metadata": {},
   "outputs": [],
   "source": [
    "def check_acc(loader,model):\n",
    "    #initialize the accuracy testing variables\n",
    "    correct=0\n",
    "    samples=0\n",
    "    #set the model to evaluation stage\n",
    "    model.eval() \n",
    "    with torch.no_grad():\n",
    "        for x,y in loader:\n",
    "            x=x.to(device=device)\n",
    "            y=y.to(device=device)\n",
    "            \n",
    "            scores=model(x)\n",
    "            _,predictions=scores.max(1)\n",
    "            correct += (predictions == y).sum()\n",
    "            samples += predictions.size(0)\n",
    "    model.train()\n",
    "    return correct/samples"
   ]
  },
  {
   "cell_type": "code",
   "execution_count": 21,
   "id": "d7a1b9f5",
   "metadata": {},
   "outputs": [
    {
     "name": "stdout",
     "output_type": "stream",
     "text": [
      "Training Accuracy:0.9869666695594788\n",
      "Testing Accuracy:0.9818999767303467\n"
     ]
    }
   ],
   "source": [
    "print(\"Training Accuracy:{0}\".format(check_acc(train_loader,model)))\n",
    "print(\"Testing Accuracy:{0}\".format(check_acc(test_loader,model)))"
   ]
  },
  {
   "cell_type": "code",
   "execution_count": null,
   "id": "05777c73",
   "metadata": {},
   "outputs": [],
   "source": []
  }
 ],
 "metadata": {
  "kernelspec": {
   "display_name": "pytorch",
   "language": "python",
   "name": "pytorch"
  },
  "language_info": {
   "codemirror_mode": {
    "name": "ipython",
    "version": 3
   },
   "file_extension": ".py",
   "mimetype": "text/x-python",
   "name": "python",
   "nbconvert_exporter": "python",
   "pygments_lexer": "ipython3",
   "version": "3.8.5"
  }
 },
 "nbformat": 4,
 "nbformat_minor": 5
}
