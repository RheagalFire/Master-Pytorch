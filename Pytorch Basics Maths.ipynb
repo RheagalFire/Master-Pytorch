{
 "cells": [
  {
   "cell_type": "code",
   "execution_count": 5,
   "id": "canadian-electronics",
   "metadata": {},
   "outputs": [],
   "source": [
    "import torch"
   ]
  },
  {
   "cell_type": "markdown",
   "id": "present-violence",
   "metadata": {},
   "source": [
    "Basics of Maths in Pytorch"
   ]
  },
  {
   "cell_type": "code",
   "execution_count": 9,
   "id": "distinguished-zimbabwe",
   "metadata": {},
   "outputs": [
    {
     "data": {
      "text/plain": [
       "tensor([[1, 2, 3],\n",
       "        [4, 5, 6]])"
      ]
     },
     "execution_count": 9,
     "metadata": {},
     "output_type": "execute_result"
    }
   ],
   "source": [
    "torch.tensor([[1,2,3],[4,5,6]])"
   ]
  },
  {
   "cell_type": "code",
   "execution_count": 10,
   "id": "blind-nancy",
   "metadata": {},
   "outputs": [
    {
     "data": {
      "text/plain": [
       "tensor([[0., 0., 0.],\n",
       "        [0., 0., 0.],\n",
       "        [0., 0., 0.]])"
      ]
     },
     "execution_count": 10,
     "metadata": {},
     "output_type": "execute_result"
    }
   ],
   "source": [
    "torch.empty(size=(3,3)) #Uninitialized Data"
   ]
  },
  {
   "cell_type": "code",
   "execution_count": 13,
   "id": "gross-sudan",
   "metadata": {},
   "outputs": [
    {
     "name": "stdout",
     "output_type": "stream",
     "text": [
      "tensor([[-0.1181,  0.1104, -0.6610, -0.3780,  0.2698]])\n",
      "tensor([[0.1043, 0.4239, 0.1864, 0.4729, 0.6489]])\n"
     ]
    }
   ],
   "source": [
    "print(torch.empty(size=(1,5)).normal_(0,1))\n",
    "print(torch.empty(size=(1,5)).uniform_(0,1))"
   ]
  },
  {
   "cell_type": "code",
   "execution_count": 14,
   "id": "induced-hanging",
   "metadata": {},
   "outputs": [
    {
     "data": {
      "text/plain": [
       "tensor([False,  True,  True,  True])"
      ]
     },
     "execution_count": 14,
     "metadata": {},
     "output_type": "execute_result"
    }
   ],
   "source": [
    "torch.arange(4).bool()"
   ]
  },
  {
   "cell_type": "code",
   "execution_count": 18,
   "id": "residential-tender",
   "metadata": {},
   "outputs": [
    {
     "name": "stdout",
     "output_type": "stream",
     "text": [
      "tensor([0, 1, 2, 3], dtype=torch.int16) tensor([False,  True,  True,  True]) tensor([0, 1, 2, 3]) tensor([0., 1., 2., 3.], dtype=torch.float16)\n"
     ]
    }
   ],
   "source": [
    "print(torch.arange(4).short(), ##int16\n",
    "torch.arange(4).bool(),\n",
    "torch.arange(4).long(),\n",
    "torch.arange(4).half())"
   ]
  },
  {
   "cell_type": "code",
   "execution_count": 21,
   "id": "biological-board",
   "metadata": {},
   "outputs": [
    {
     "data": {
      "text/plain": [
       "tensor([[0., 0., 0., 0., 0.],\n",
       "        [0., 0., 0., 0., 0.],\n",
       "        [0., 0., 0., 0., 0.],\n",
       "        [0., 0., 0., 0., 0.],\n",
       "        [0., 0., 0., 0., 0.]], dtype=torch.float64)"
      ]
     },
     "execution_count": 21,
     "metadata": {},
     "output_type": "execute_result"
    }
   ],
   "source": [
    "import numpy as np\n",
    "torch.from_numpy(np.zeros((5,5)))"
   ]
  },
  {
   "cell_type": "code",
   "execution_count": 23,
   "id": "built-drama",
   "metadata": {},
   "outputs": [
    {
     "name": "stdout",
     "output_type": "stream",
     "text": [
      "tensor([2, 4])\n",
      "tensor([2, 4])\n"
     ]
    }
   ],
   "source": [
    "a=torch.tensor([1,2])\n",
    "b=torch.tensor([1,2])\n",
    "z=a+b\n",
    "print(z)\n",
    "z=torch.add(a,b)\n",
    "print(z)"
   ]
  },
  {
   "cell_type": "code",
   "execution_count": 24,
   "id": "regulation-optimum",
   "metadata": {},
   "outputs": [
    {
     "data": {
      "text/plain": [
       "tensor([1., 1.])"
      ]
     },
     "execution_count": 24,
     "metadata": {},
     "output_type": "execute_result"
    }
   ],
   "source": [
    "torch.true_divide(a,b)"
   ]
  },
  {
   "cell_type": "markdown",
   "id": "material-taiwan",
   "metadata": {},
   "source": [
    "the operation followed by '_' is inplace operation."
   ]
  },
  {
   "cell_type": "code",
   "execution_count": 25,
   "id": "loose-azerbaijan",
   "metadata": {},
   "outputs": [
    {
     "data": {
      "text/plain": [
       "tensor([[0, 1, 2],\n",
       "        [3, 4, 5],\n",
       "        [6, 7, 8]])"
      ]
     },
     "execution_count": 25,
     "metadata": {},
     "output_type": "execute_result"
    }
   ],
   "source": [
    "x=torch.arange(9)\n",
    "x.view(3,3)"
   ]
  },
  {
   "cell_type": "code",
   "execution_count": null,
   "id": "posted-hundred",
   "metadata": {},
   "outputs": [],
   "source": []
  }
 ],
 "metadata": {
  "kernelspec": {
   "display_name": "pytorch",
   "language": "python",
   "name": "pytorch"
  },
  "language_info": {
   "codemirror_mode": {
    "name": "ipython",
    "version": 3
   },
   "file_extension": ".py",
   "mimetype": "text/x-python",
   "name": "python",
   "nbconvert_exporter": "python",
   "pygments_lexer": "ipython3",
   "version": "3.8.5"
  }
 },
 "nbformat": 4,
 "nbformat_minor": 5
}
